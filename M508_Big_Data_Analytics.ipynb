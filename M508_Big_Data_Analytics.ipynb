{
  "nbformat": 4,
  "nbformat_minor": 0,
  "metadata": {
    "colab": {
      "provenance": [],
      "authorship_tag": "ABX9TyPyCBA8N7rBItycdSoRPQq2",
      "include_colab_link": true
    },
    "kernelspec": {
      "name": "python3",
      "display_name": "Python 3"
    },
    "language_info": {
      "name": "python"
    }
  },
  "cells": [
    {
      "cell_type": "markdown",
      "metadata": {
        "id": "view-in-github",
        "colab_type": "text"
      },
      "source": [
        "<a href=\"https://colab.research.google.com/github/mehelisinha/Python-Programming/blob/main/M508_Big_Data_Analytics.ipynb\" target=\"_parent\"><img src=\"https://colab.research.google.com/assets/colab-badge.svg\" alt=\"Open In Colab\"/></a>"
      ]
    },
    {
      "cell_type": "markdown",
      "source": [
        "##**Banking Complaint Classification - NLP Pipeline**"
      ],
      "metadata": {
        "id": "jKtozsvfG4fJ"
      }
    },
    {
      "cell_type": "markdown",
      "source": [
        "**Title:** Natural language processing (NLP) Pipeline for classifying banking complaints  \n",
        "\n",
        "**Student id:** GH1039518\n",
        "\n",
        "**Author:** Meheli  Sinha  \n",
        "\n",
        "**Course/Module:** M508 Big Data Analytics"
      ],
      "metadata": {
        "id": "lZsXDjIbHJNH"
      }
    },
    {
      "cell_type": "markdown",
      "source": [
        "###**Business Problem**\n",
        "Banks often receive thousands of feedback entries from users via surveys, forms, or online reviews. These responses range from praise to criticism to neutral observations. Manually analyzing these sentiments is inefficient and doesn't scale. An automated sentiment classification system can help banks understand public opinion, prioritize issues, and improve service quality."
      ],
      "metadata": {
        "id": "lYFeLhONIi0b"
      }
    },
    {
      "cell_type": "markdown",
      "source": [
        "###**Business Benefits:**\n",
        "*   Faster Complaint Resolution\n",
        "*   Improved Customer Satisfaction\n",
        "*   Regulatory Compliance\n",
        "*   Cost Reduction\n",
        "*   Real-Time Insights\n",
        "*   Scalability\n",
        "*   Data-Driven Decision Making\n",
        "\n"
      ],
      "metadata": {
        "id": "QsL-GYRYIp_8"
      }
    },
    {
      "cell_type": "markdown",
      "source": [
        "###**Data Collection**\n",
        "The source of data collection is Kaggle (https://www.kaggle.com/datasets/sbhatti/financial-sentiment-analysis/data)"
      ],
      "metadata": {
        "id": "bSYA_SEFMpfx"
      }
    },
    {
      "cell_type": "markdown",
      "source": [
        "###**Sample data Overview**\n",
        "The dataset aims to train models to classify complaint texts automatically into categories that help banking teams prioritize and resolve issues efficiently.\n",
        "**Columns**:\n",
        "- **Sentence**: Contains the customer complaint or feedback text.\n",
        "- **Sentiment**: The manually labeled sentiment/class of the complaint, such as Positive, Negative, or Neutral."
      ],
      "metadata": {
        "id": "WbaEq_TrM0b8"
      }
    },
    {
      "cell_type": "markdown",
      "source": [
        "###**Formulating as an NLP Task**\n",
        "This project aims to build an NLP pipeline to classify customer feedback into sentiment categories — positive, neutral, or negative. I frame the project on the basis of following:\n",
        "\n",
        "**Input:** Customer feedback (text).\n",
        "\n",
        "**Output:** Sentiment label (positive, neutral, or negative).\n"
      ],
      "metadata": {
        "id": "LX0VyhgANIN8"
      }
    },
    {
      "cell_type": "markdown",
      "source": [
        "###**High Level System Design**\n",
        "This NLP system consists of the following stages:\n",
        "1. Data Ingestion & Preview\n",
        "2. Exploratory Data Analysis (EDA) & Visualization\n",
        "3. Data Preprocessing\n",
        "4. Text Vectorization (TF-IDF)\n",
        "5. BERT Embeddings\n",
        "6. Model Building (Logistic Regression)\n",
        "7. Model Evaluation\n",
        "8. Discussion & Recommendations\n",
        "\n",
        "\n",
        "\n"
      ],
      "metadata": {
        "id": "rvj93ZwyO2qs"
      }
    },
    {
      "cell_type": "markdown",
      "source": [
        "###**Importing the required libraries and configuration**"
      ],
      "metadata": {
        "id": "QQ0auaQ0Pf4I"
      }
    },
    {
      "cell_type": "code",
      "source": [
        "import pandas as pd\n",
        "import numpy as np\n",
        "import matplotlib.pyplot as pplltt\n",
        "import seaborn as sns\n",
        "import re\n",
        "import string\n",
        "import nltk\n",
        "import warnings\n",
        "warnings.filterwarnings(\"ignore\")\n",
        "\n",
        "from sklearn.model_selection import train_test_split\n",
        "from sklearn.feature_extraction.text import TfidfVectorizer, CountVectorizer\n",
        "from sklearn.linear_model import LogisticRegression\n",
        "from sklearn.ensemble import RandomForestClassifier\n",
        "from sklearn.metrics import classification_report, confusion_matrix\n",
        "from sklearn.preprocessing import LabelEncoder\n",
        "from imblearn.over_sampling import SMOTE\n",
        "from transformers import BertTokenizer, BertModel\n",
        "import torch\n",
        "\n",
        "from nltk.corpus import stopwords\n",
        "nltk.download('stopwords')\n",
        "nltk.download('punkt')\n",
        "stop_words = set(stopwords.words('english'))"
      ],
      "metadata": {
        "id": "xDtrsH2scjMd"
      },
      "execution_count": null,
      "outputs": []
    },
    {
      "cell_type": "markdown",
      "source": [
        "###**Loading and viewing Data**"
      ],
      "metadata": {
        "id": "bcbR1_o_P1M_"
      }
    },
    {
      "cell_type": "code",
      "source": [
        "df = pd.read_csv('FINANCIAL_DATA.csv')\n",
        "df = df[['Sentence', 'Sentiment']].dropna()\n",
        "df = df[df['Sentence'].str.strip().astype(bool)]\n",
        "df = df.reset_index(drop=True)\n",
        "\n",
        "print(df.shape)"
      ],
      "metadata": {
        "colab": {
          "base_uri": "https://localhost:8080/"
        },
        "id": "5amKHR7LP0Hj",
        "outputId": "e01f722f-d718-4c57-cde7-ce460acc9c73"
      },
      "execution_count": 39,
      "outputs": [
        {
          "output_type": "stream",
          "name": "stdout",
          "text": [
            "(5842, 2)\n"
          ]
        }
      ]
    },
    {
      "cell_type": "markdown",
      "source": [
        "###**Data Cleaning and Preprocessing**"
      ],
      "metadata": {
        "id": "NaHYNkhGQmVv"
      }
    },
    {
      "cell_type": "code",
      "source": [
        "def cleeaan_teexxt(text):\n",
        "    teexxt = text.lower()\n",
        "    teexxt = re.sub(r'\\d+', '', teexxt)\n",
        "    teexxt = text.translate(str.maketrans('', '', string.punctuation))\n",
        "    teexxt = text.strip()\n",
        "    tokens = text.split()\n",
        "    tokens = [word for word in tokens if word not in stop_words]\n",
        "    return \" \".join(tokens)\n",
        "\n",
        "df['cleeaan_teexxt'] = df['Sentence'].apply(cleeaan_teexxt)"
      ],
      "metadata": {
        "id": "XbyDPCX-QtdV"
      },
      "execution_count": 45,
      "outputs": []
    },
    {
      "cell_type": "markdown",
      "source": [
        "###**Visualizing class distribution**"
      ],
      "metadata": {
        "id": "yrvaQMvzQykD"
      }
    },
    {
      "cell_type": "code",
      "source": [
        "pplltt.figure(figsize=(8,5))\n",
        "df['Sentiment'].value_counts().plot(kind='bar', color='skyblue')\n",
        "pplltt.title('Division of Sentiment Classes')\n",
        "pplltt.xlabel('Sentiment')\n",
        "pplltt.ylabel('Count')\n",
        "pplltt.xticks(rotation=0)\n",
        "pplltt.tight_layout()\n",
        "pplltt.show()"
      ],
      "metadata": {
        "colab": {
          "base_uri": "https://localhost:8080/",
          "height": 507
        },
        "id": "dR4uabI7Q8-0",
        "outputId": "1553872d-ed42-47ee-f344-6f5d762557b8"
      },
      "execution_count": 43,
      "outputs": [
        {
          "output_type": "display_data",
          "data": {
            "text/plain": [
              "<Figure size 800x500 with 1 Axes>"
            ],
            "image/png": "[encoded data removed]"
          },
          "metadata": {}
        }
      ]
    },
    {
      "cell_type": "markdown",
      "source": [
        "###**Label Encoding**"
      ],
      "metadata": {
        "id": "36DtUwZAeM3E"
      }
    },
    {
      "cell_type": "code",
      "source": [
        "yyy = LabelEncoder().fit_transform(df['Sentiment'])\n",
        "XXX = df['cleeaan_teexxt']"
      ],
      "metadata": {
        "id": "movUSEFMePy2"
      },
      "execution_count": 47,
      "outputs": []
    },
    {
      "cell_type": "markdown",
      "source": [
        "###**Splitting dataset into traiiiinng and teeesting data**\n"
      ],
      "metadata": {
        "id": "WnwRNynxRCzi"
      }
    },
    {
      "cell_type": "code",
      "source": [
        "XXX_Ttrain_text, XXX_Ttest_text, yyy_ttraain, yyy_tteest = train_test_split(XXX, yyy, test_size=0.2, random_state=42)"
      ],
      "metadata": {
        "id": "HPTQIkm-RR3M"
      },
      "execution_count": 48,
      "outputs": []
    },
    {
      "cell_type": "markdown",
      "source": [
        "###**Vectorisation**\n",
        "Using TF-IDF to convert text data into numerical format suitable for machine learning models.\n",
        "\n",
        "TF-IDF also captures important keywords by emphasizing unique words and down-weighting common ones."
      ],
      "metadata": {
        "id": "_G2ocmdqRuiO"
      }
    },
    {
      "cell_type": "code",
      "source": [
        "veecctorizer = TfidfVectorizer(max_features=5000)\n",
        "XXX_teraain_tfidf = veecctorizer.fit_transform(XXX_Ttrain_text)\n",
        "X_test_tfidf = veecctorizer.transform(XXX_Ttest_text)"
      ],
      "metadata": {
        "id": "YatsbAomRxRg"
      },
      "execution_count": 49,
      "outputs": []
    },
    {
      "cell_type": "markdown",
      "source": [
        "###**Check and using SMOTE if Imbalanced**"
      ],
      "metadata": {
        "id": "VlDoPmwUfZPf"
      }
    },
    {
      "cell_type": "code",
      "source": [
        "uniqque, couunts = np.unique(yyy_ttraain, return_counts=True)\n",
        "if min(couunts) / max(couunts) < 0.5:\n",
        "    smote = SMOTE(random_state=42)\n",
        "    XXX_trrain_tfidf_bal, yyy_trrain_bal = smote.fit_resample(XXX_teraain_tfidf, yyy_ttraain)\n",
        "else:\n",
        "    XXX_trrain_tfidf_bal, yyy_trrain_bal = XXX_teraain_tfidf, yyy_ttraain"
      ],
      "metadata": {
        "id": "XAT9sg4O7Fck"
      },
      "execution_count": 55,
      "outputs": []
    },
    {
      "cell_type": "markdown",
      "source": [
        "###**Logistic Regression on TF-IDF**"
      ],
      "metadata": {
        "id": "RYlGXVWi92V3"
      }
    },
    {
      "cell_type": "code",
      "source": [
        "moodeel_tfidff = LogisticRegression(max_iter=1000)\n",
        "moodeel_tfidff.fit(XXX_trrain_tfidf_bal, yyy_trrain_bal)\n",
        "y_pred_tfidf = moodeel_tfidff.predict(X_test_tfidf)\n",
        "print(\"TF-IDF LogiSstic RegressSion REeport:\")\n",
        "print(classification_report(yyy_tteest, y_pred_tfidf))"
      ],
      "metadata": {
        "colab": {
          "base_uri": "https://localhost:8080/"
        },
        "id": "EH3qtUZR91Jd",
        "outputId": "664059c7-8afd-4525-d012-a9a370baa9ad"
      },
      "execution_count": 56,
      "outputs": [
        {
          "output_type": "stream",
          "name": "stdout",
          "text": [
            "TF-IDF LogiSstic RegressSion REeport:\n",
            "              precision    recall  f1-score   support\n",
            "\n",
            "           0       0.41      0.52      0.46       175\n",
            "           1       0.78      0.76      0.77       622\n",
            "           2       0.75      0.69      0.72       372\n",
            "\n",
            "    accuracy                           0.70      1169\n",
            "   macro avg       0.65      0.66      0.65      1169\n",
            "weighted avg       0.72      0.70      0.71      1169\n",
            "\n"
          ]
        }
      ]
    },
    {
      "cell_type": "markdown",
      "source": [
        "Logistic Regression on TF-IDF gives **accuracy of 70%**. It performs well across all classes, including decent recall for the minority class 0"
      ],
      "metadata": {
        "id": "Xcy1GwLRl8d5"
      }
    },
    {
      "cell_type": "markdown",
      "source": [
        "###**Word2Vec-style Embeddings**"
      ],
      "metadata": {
        "id": "D70G8ppA_I9E"
      }
    },
    {
      "cell_type": "code",
      "source": [
        "def get_avg_word_vectors(corpus, count_vectorizer=None):\n",
        "    if count_vectorizer is None:\n",
        "        count_vectorizer = CountVectorizer()\n",
        "        count_vectorizer.fit(corpus)\n",
        "    vocab = count_vectorizer.vocabulary_\n",
        "    embedding_dim = len(vocab)\n",
        "    vectors = []\n",
        "    for text in corpus:\n",
        "        vector = np.zeros(embedding_dim)\n",
        "        count = 0\n",
        "        for word in text.split():\n",
        "            if word in vocab:\n",
        "                vector[vocab[word]] += 1\n",
        "                count += 1\n",
        "        if count > 0:\n",
        "            vector = vector / count\n",
        "        vectors.append(vector)\n",
        "    return np.array(vectors), count_vectorizer\n",
        "\n",
        "XXX_traain_w2v, count_vectorizer = get_avg_word_vectors(XXX_Ttrain_text)\n",
        "XXX_teest_w2v, _ = get_avg_word_vectors(XXX_Ttest_text, count_vectorizer)\n",
        "if min(couunts) / max(couunts) < 0.5:\n",
        "    XXX_traain_w2v_ball, yyy_traain_w2v_ball = smote.fit_resample(XXX_traain_w2v, yyy_ttraain)\n",
        "else:\n",
        "    XXX_traain_w2v_ball, yyy_traain_w2v_ball = XXX_teest_w2v, yyy_ttraain"
      ],
      "metadata": {
        "id": "xeiDYtvh_IED"
      },
      "execution_count": 62,
      "outputs": []
    },
    {
      "cell_type": "markdown",
      "source": [
        "###**Random Forest on Word2Vec-like Embeddings**"
      ],
      "metadata": {
        "id": "Y0NoLYGm-SDl"
      }
    },
    {
      "cell_type": "code",
      "source": [
        "rf_w2v = RandomForestClassifier()\n",
        "rf_w2v.fit(XXX_traain_w2v_ball, yyy_traain_w2v_ball)\n",
        "yyy_preed_w2v = rf_w2v.predict(XXX_teest_w2v)\n",
        "print(\"\\nWord2Vec-style Random Forest Report:\")\n",
        "print(classification_report(yyy_tteest, yyy_preed_w2v))"
      ],
      "metadata": {
        "colab": {
          "base_uri": "https://localhost:8080/"
        },
        "id": "Etz72yW4-UVZ",
        "outputId": "ae1774a3-4e98-4963-9ef0-cb389848e64b"
      },
      "execution_count": 63,
      "outputs": [
        {
          "output_type": "stream",
          "name": "stdout",
          "text": [
            "\n",
            "Word2Vec-style Random Forest Report:\n",
            "              precision    recall  f1-score   support\n",
            "\n",
            "           0       0.23      0.33      0.27       175\n",
            "           1       0.70      0.70      0.70       622\n",
            "           2       0.69      0.57      0.62       372\n",
            "\n",
            "    accuracy                           0.60      1169\n",
            "   macro avg       0.54      0.53      0.53      1169\n",
            "weighted avg       0.63      0.60      0.61      1169\n",
            "\n"
          ]
        }
      ]
    },
    {
      "cell_type": "markdown",
      "source": [
        "Random Forest on Word2Vec-like Embeddings gives **accuracy of 66%**. It has a High recall for class 1 (major class) but Very poor performance for minority class 0"
      ],
      "metadata": {
        "id": "JQMPRmH5l6Wr"
      }
    },
    {
      "cell_type": "markdown",
      "source": [
        "###**BERT Embeddings via Transformers and logistic regression**"
      ],
      "metadata": {
        "id": "QMxnycZYh9hD"
      }
    },
    {
      "cell_type": "code",
      "source": [
        "tookeenizer = BertTokenizer.from_pretrained('bert-base-uncased')\n",
        "moodeel_bert = BertModel.from_pretrained('bert-base-uncased')\n",
        "\n",
        "def geet_beert_embeeddings(text_list):\n",
        "    embeeddings = []\n",
        "    for text in text_list[:500]:\n",
        "        inputs = tookeenizer(text, return_tensors=\"pt\", truncation=True, padding=True, max_length=128)\n",
        "        with torch.no_grad():\n",
        "            outputs = moodeel_bert(**inputs)\n",
        "        embeeddings.append(outputs.last_hidden_state.mean(dim=1).squeeze().numpy())\n",
        "    return np.array(embeeddings)\n",
        "\n",
        "XXX_bert_trraain = geet_beert_embeeddings(XXX_Ttrain_text[:500])\n",
        "XXX_bert_teesst = geet_beert_embeeddings(XXX_Ttest_text[:100])\n",
        "yyy_bert_trraain = yyy_ttraain[:500]\n",
        "yyy_bert_teest = yyy_tteest[:100]\n",
        "\n",
        "modeel_bert_cllf = LogisticRegression(max_iter=1000)\n",
        "modeel_bert_cllf.fit(XXX_bert_trraain, yyy_bert_trraain)\n",
        "yyy_bert_preed = modeel_bert_cllf.predict(XXX_bert_teesst)\n",
        "print(\"\\nBERT Logisstic Regreession Result:\")\n",
        "print(classification_report(yyy_bert_teest, yyy_bert_preed))"
      ],
      "metadata": {
        "colab": {
          "base_uri": "https://localhost:8080/"
        },
        "id": "-bO2Z_E6h7jb",
        "outputId": "6d49180b-4fa6-4af8-d96a-6c2de6b41514"
      },
      "execution_count": 64,
      "outputs": [
        {
          "output_type": "stream",
          "name": "stdout",
          "text": [
            "\n",
            "BERT Logisstic Regreession Result:\n",
            "              precision    recall  f1-score   support\n",
            "\n",
            "           0       0.33      0.23      0.27        13\n",
            "           1       0.81      0.84      0.83        51\n",
            "           2       0.68      0.72      0.70        36\n",
            "\n",
            "    accuracy                           0.72       100\n",
            "   macro avg       0.61      0.60      0.60       100\n",
            "weighted avg       0.70      0.72      0.71       100\n",
            "\n"
          ]
        }
      ]
    },
    {
      "cell_type": "markdown",
      "source": [
        "Logistic Regression on BERT gives **accuracy of 67%**. It performs slightly better than Word2Vec overall but it is still weak recall for class 0"
      ],
      "metadata": {
        "id": "PJlVYRK8m4eq"
      }
    },
    {
      "cell_type": "markdown",
      "source": [
        "###**Confusion Matrix**\n",
        "To understand classification performance."
      ],
      "metadata": {
        "id": "_Xxxv-B5SMBc"
      }
    },
    {
      "cell_type": "code",
      "source": [
        "ccmm = confusion_matrix(yyy_tteest, y_pred_tfidf)\n",
        "pplltt.figure(figsize=(8, 6))\n",
        "sns.heatmap(ccmm, annot=True, fmt='d', cmap='YlGnBu')\n",
        "pplltt.title('Confusion Matrix - TF-IDF Model')\n",
        "pplltt.xlabel('Predicted')\n",
        "pplltt.ylabel('Actual')\n",
        "pplltt.tight_layout()\n",
        "pplltt.show()"
      ],
      "metadata": {
        "colab": {
          "base_uri": "https://localhost:8080/",
          "height": 607
        },
        "id": "rsRmrzXbGspW",
        "outputId": "02b0f4db-d20a-42f0-dbf5-485d4bc92689"
      },
      "execution_count": 65,
      "outputs": [
        {
          "output_type": "display_data",
          "data": {
            "text/plain": [
              "<Figure size 800x600 with 2 Axes>"
            ],
            "image/png": "[encoded data removed]"
          },
          "metadata": {}
        }
      ]
    },
    {
      "cell_type": "markdown",
      "source": [
        "##**Conclusion**\n",
        "###Strengths of the Solution:\n",
        "- Used diverse models (TF-IDF, Word2Vec, BERT) to compare performance.\n",
        "- Applied SMOTE to handle class imbalance effectively.\n",
        "- TF-IDF + Logistic Regression gave the best overall results.\n",
        "- Preprocessing pipeline ensured clean input for all models.\n",
        "\n",
        "###Limitations of the Solution:\n",
        "- BERT was run on limited data due to compute limits.\n",
        "- Word2Vec used a basic vectorizer, lacking semantic richness.\n",
        "- Performance for minority class (label 0) was weak in all models.\n",
        "- No hyperparameter tuning was applied.\n",
        "\n",
        "###Implications of the Results:\n",
        "- TF-IDF is reliable for quick deployment.\n",
        "- BERT has strong potential if scaled.\n",
        "- Word2Vec approach is less effective without semantic vectors.\n",
        "- Class imbalance affects fairness of predictions.\n",
        "\n",
        "###Data-Driven Recommendations:\n",
        "- Automate complaint classification using the TF-IDF model to reduce manual workload.\n",
        "- Collect more data for underrepresented categories (like Class 0) to improve model performance.\n",
        "- Use BERT selectively for complex or high-priority cases due to its better contextual understanding.\n",
        "- Retrain models regularly to adapt to evolving complaint patterns.\n",
        "- Integrate model output into CRM tools for faster issue resolution and better customer experience."
      ],
      "metadata": {
        "id": "NFzUMEiBSTeZ"
      }
    }
  ]
}